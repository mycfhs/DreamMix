{
 "cells": [
  {
   "cell_type": "code",
   "execution_count": null,
   "metadata": {},
   "outputs": [],
   "source": [
    "import torch\n",
    "import random\n",
    "import os\n",
    "import shutil\n",
    "from tqdm import tqdm\n",
    "from diffusers import StableDiffusionXLPipeline\n",
    "\n",
    "regular_prompts_list = [\n",
    "    ...\n",
    "]\n",
    "object_name = \"teapot\"\n",
    "save_dir = \"regular_teapot\"\n",
    "\n",
    "\n",
    "repeat_times = 30\n",
    "\n",
    "DEVICE = \"cuda:0\"\n",
    "torch.cuda.set_device(DEVICE)"
   ]
  },
  {
   "cell_type": "code",
   "execution_count": null,
   "metadata": {},
   "outputs": [],
   "source": [
    "pipeline = StableDiffusionXLPipeline.from_pretrained(\n",
    "    \"stabilityai/stable-diffusion-xl-base-1.0\",\n",
    "    torch_dtype=torch.float16,\n",
    "    use_safetensors=True,\n",
    "    variant=\"fp16\",\n",
    ").to(DEVICE)\n",
    "pipeline.set_progress_bar_config(disable=True)"
   ]
  },
  {
   "cell_type": "code",
   "execution_count": null,
   "metadata": {},
   "outputs": [],
   "source": [
    "# 使用lang-sam完成分割任务  python3.10装包\n",
    "# git clone https://github.com/mycfhs/lang-segment-anything && cd lang-segment-anything\n",
    "# python -m pip install -e . --ignore-installed\n",
    "from lang_sam import LangSAM\n",
    "\n",
    "model = LangSAM(sam_type=\"vit_h\")  # b, l, h"
   ]
  },
  {
   "cell_type": "code",
   "execution_count": null,
   "metadata": {},
   "outputs": [],
   "source": [
    "from torchvision.transforms import ToPILImage\n",
    "import gc\n",
    "\n",
    "to_pil_image = ToPILImage()\n",
    "\n",
    "if os.path.exists(save_dir):\n",
    "    shutil.rmtree(save_dir)\n",
    "\n",
    "os.makedirs(save_dir)\n",
    "for prompt in regular_prompts_list:\n",
    "    prompt = prompt.replace(\" \", \"_\")\n",
    "    os.makedirs(f\"{save_dir}/{prompt}\")\n",
    "\n",
    "for _ in tqdm(range(repeat_times)):\n",
    "    random_seed = random.randint(0, 1000000)\n",
    "    images = pipeline(regular_prompts_list, seed=random_seed).images\n",
    "\n",
    "    gc.collect()\n",
    "    if torch.cuda.is_available():\n",
    "        torch.cuda.empty_cache()\n",
    "\n",
    "    for image, prompt in zip(images, regular_prompts_list):\n",
    "        prompt = prompt.replace(\" \", \"_\")\n",
    "\n",
    "        masks, boxes, phrases, logits = model.predict(image, object_name)\n",
    "        mask = masks.to(torch.uint8) * 255\n",
    "\n",
    "        try:\n",
    "            mask_img = to_pil_image(mask[0])\n",
    "            mask_img.save(f\"{save_dir}/{prompt}/{random_seed}-mask.png\")\n",
    "            image.save(f\"{save_dir}/{prompt}/{random_seed}-image.png\")\n",
    "        except:\n",
    "            print(f\"Error img, ignore\")\n",
    "            continue\n",
    "\n",
    "    gc.collect()\n",
    "    if torch.cuda.is_available():\n",
    "        torch.cuda.empty_cache()"
   ]
  }
 ],
 "metadata": {
  "kernelspec": {
   "display_name": "DreamMix",
   "language": "python",
   "name": "python3"
  },
  "language_info": {
   "codemirror_mode": {
    "name": "ipython",
    "version": 3
   },
   "file_extension": ".py",
   "mimetype": "text/x-python",
   "name": "python",
   "nbconvert_exporter": "python",
   "pygments_lexer": "ipython3",
   "version": "3.10.15"
  }
 },
 "nbformat": 4,
 "nbformat_minor": 2
}
