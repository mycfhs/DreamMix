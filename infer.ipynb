{
 "cells": [
  {
   "cell_type": "code",
   "execution_count": null,
   "metadata": {},
   "outputs": [],
   "source": [
    "import torch\n",
    "\n",
    "DEVICE = \"cuda:1\"\n",
    "torch.cuda.set_device(DEVICE)\n",
    "\n",
    "from FooocusSDXLInpaintAllInOnePipeline import FooocusSDXLInpaintPipeline\n",
    "\n",
    "pipe = FooocusSDXLInpaintPipeline.from_pretrained(\n",
    "    \"frankjoshua/juggernautXL_v8Rundiffusion\",\n",
    "    torch_dtype=torch.float16,\n",
    "    use_safetensors=True,\n",
    ").to(DEVICE)"
   ]
  },
  {
   "cell_type": "code",
   "execution_count": null,
   "metadata": {
    "notebookRunGroups": {
     "groupValue": "1"
    }
   },
   "outputs": [],
   "source": [
    "lora_config = [\n",
    "    {\n",
    "        \"model_path\": f\"lora/xxx\",\n",
    "        \"scale\": 1,\n",
    "        \"for_raw_unet\": False,\n",
    "        \"for_fooocus_unet\": True,\n",
    "    },\n",
    "]\n",
    "\n",
    "pipe.preload_fooocus_unet(\n",
    "    fooocus_model_path=\"./models/fooocus_inpaint/inpaint_v26.fooocus.patch\",\n",
    "    lora_configs=lora_config,\n",
    "    add_double_sa=False,\n",
    ")"
   ]
  },
  {
   "cell_type": "code",
   "execution_count": null,
   "metadata": {},
   "outputs": [],
   "source": [
    "from diffusers.utils import load_image\n",
    "from PIL import Image\n",
    "\n",
    "\n",
    "img_url = f\"data/1_1.jpg\"\n",
    "mask_url = f\"data/1_2.jpg\"\n",
    "\n",
    "init_image = load_image(img_url).convert(\"RGB\")\n",
    "mask_image = load_image(mask_url).convert(\"RGB\")\n",
    "\n",
    "prompt = \"\"\n",
    "negative_prompt = \"\""
   ]
  },
  {
   "cell_type": "code",
   "execution_count": null,
   "metadata": {},
   "outputs": [],
   "source": [
    "# Infer！\n",
    "image = pipe(\n",
    "    isf_global_time=20,\n",
    "    isf_global_ia=1,\n",
    "    decompose_prefix_prompt=\"a photo of a sks\",\n",
    "    sks_decompose_words=[\"\"],\n",
    "    fooocus_model_head_path=\"./models/fooocus_inpaint/fooocus_inpaint_head.pth\",\n",
    "    fooocus_model_head_upscale_path=\"./models/upscale_models/fooocus_upscaler_s409985e5.bin\",\n",
    "    pag_scale=1,\n",
    "    guidance_scale=4,\n",
    "    ref_image_type=\"no\", \n",
    "    double_sa_alpha=1,\n",
    "    save_self_attn=False,\n",
    "    save_cross_attn=False,\n",
    "    fooocus_time=0.8,\n",
    "    inpaint_respective_field=0.5, \n",
    "    sharpness=1, \n",
    "    adm_scaler_positive=1.5, \n",
    "    adm_scaler_negative=0.8,  \n",
    "    adm_scaler_end=0.3,\n",
    "    seed=42,\n",
    "    image=init_image,\n",
    "    mask_image=mask_image,\n",
    "    prompt=prompt,\n",
    "    negative_prompt=negative_prompt,\n",
    "    num_inference_steps=30,\n",
    "    strength=1,\n",
    ")\n",
    "image.resize((512, 512))\n",
    "image"
   ]
  }
 ],
 "metadata": {
  "kernelspec": {
   "display_name": "DreamMix",
   "language": "python",
   "name": "python3"
  },
  "language_info": {
   "codemirror_mode": {
    "name": "ipython",
    "version": 3
   },
   "file_extension": ".py",
   "mimetype": "text/x-python",
   "name": "python",
   "nbconvert_exporter": "python",
   "pygments_lexer": "ipython3",
   "version": "3.10.15"
  }
 },
 "nbformat": 4,
 "nbformat_minor": 2
}
